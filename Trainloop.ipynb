{
 "cells": [
  {
   "cell_type": "code",
   "execution_count": 8,
   "metadata": {},
   "outputs": [],
   "source": [
    "import os\n",
    "import math\n",
    "import time\n",
    "import torch\n",
    "import random\n",
    "import numpy as np\n",
    "import pandas as pd\n",
    "from torch.utils.data import DataLoader, ConcatDataset\n",
    "from IPython.display import clear_output\n",
    "from trainLoop import training_loop\n",
    "from Model_inn import RepNet\n",
    "from Dataset import getCombinedDataset"
   ]
  },
  {
   "cell_type": "code",
   "execution_count": 9,
   "metadata": {},
   "outputs": [],
   "source": [
    "use_cuda = torch.cuda.is_available()\n",
    "device = torch.device(\"cuda\" if use_cuda else \"cpu\")"
   ]
  },
  {
   "cell_type": "code",
   "execution_count": 10,
   "metadata": {},
   "outputs": [
    {
     "name": "stdout",
     "output_type": "stream",
     "text": [
      "✅ Found: downloaded_videos/test\\0CnQ-_e5Sl8.mp4\n",
      "✅ Found: downloaded_videos/test\\0CnQ-_e5Sl8.mp4\n",
      "✅ Created dataset with 2 videos.\n"
     ]
    }
   ],
   "source": [
    "frame_per_vid = 64\n",
    "multiple = False\n",
    "\n",
    "testDatasetC = getCombinedDataset('countix/countix_test.csv',\n",
    "                                   'downloaded_videos/',\n",
    "                                   'test')"
   ]
  },
  {
   "cell_type": "code",
   "execution_count": 11,
   "metadata": {},
   "outputs": [],
   "source": [
    "testDataset = testDatasetC"
   ]
  },
  {
   "cell_type": "code",
   "execution_count": 12,
   "metadata": {},
   "outputs": [
    {
     "name": "stdout",
     "output_type": "stream",
     "text": [
      "✅ Found: downloaded_videos/train\\AaTvErday_s.mp4\n",
      "✅ Found: downloaded_videos/train\\AnEm66_ZHvQ.mp4\n",
      "✅ Found: downloaded_videos/train\\AsJgDPLu_ro.mp4\n",
      "✅ Found: downloaded_videos/train\\AsJgDPLu_ro.mp4\n",
      "✅ Found: downloaded_videos/train\\BuhAROfTtx8.mp4\n",
      "✅ Found: downloaded_videos/train\\C-X1eJftb-g.mp4\n",
      "✅ Found: downloaded_videos/train\\DMc9Jkvwc_s.mp4\n",
      "✅ Found: downloaded_videos/train\\DMc9Jkvwc_s.mp4\n",
      "✅ Found: downloaded_videos/train\\DkonD7QOe64.mp4\n",
      "✅ Found: downloaded_videos/train\\DkonD7QOe64.mp4\n",
      "✅ Found: downloaded_videos/train\\D5Ge91h0XZw.mp4\n",
      "✅ Found: downloaded_videos/train\\EKEJHzTW53s.mp4\n",
      "✅ Found: downloaded_videos/train\\EKEJHzTW53s.mp4\n",
      "✅ Found: downloaded_videos/train\\E2iBgyvSZ9U.mp4\n",
      "✅ Found: downloaded_videos/train\\FGsndIt1TW4.mp4\n",
      "✅ Found: downloaded_videos/train\\FQaVcc3dH40.mp4\n",
      "✅ Found: downloaded_videos/train\\F-8dgkZaeIk.mp4\n",
      "✅ Found: downloaded_videos/train\\GWOuD3bwuEs.mp4\n",
      "✅ Found: downloaded_videos/train\\GgB8iZiCT1o.mp4\n",
      "✅ Found: downloaded_videos/train\\GgB8iZiCT1o.mp4\n",
      "✅ Created dataset with 20 videos.\n"
     ]
    }
   ],
   "source": [
    "trainDatasetC = getCombinedDataset('countix/countix_train.csv',\n",
    "                                   'downloaded_videos/',\n",
    "                                   'train')\n",
    "trainDataset = trainDatasetC "
   ]
  },
  {
   "cell_type": "code",
   "execution_count": 13,
   "metadata": {},
   "outputs": [
    {
     "name": "stderr",
     "output_type": "stream",
     "text": [
      "e:\\downloaded_videos\\venv\\Lib\\site-packages\\torchvision\\models\\_utils.py:208: UserWarning: The parameter 'pretrained' is deprecated since 0.13 and may be removed in the future, please use 'weights' instead.\n",
      "  warnings.warn(\n",
      "e:\\downloaded_videos\\venv\\Lib\\site-packages\\torchvision\\models\\_utils.py:223: UserWarning: Arguments other than a weight enum or `None` for 'weights' are deprecated since 0.13 and may be removed in the future. The current behavior is equivalent to passing `weights=ResNet50_Weights.IMAGENET1K_V1`. You can also use `weights=ResNet50_Weights.DEFAULT` to get the most up-to-date weights.\n",
      "  warnings.warn(msg)\n",
      "Downloading: \"https://download.pytorch.org/models/resnet50-0676ba61.pth\" to C:\\Users\\Gigabyte/.cache\\torch\\hub\\checkpoints\\resnet50-0676ba61.pth\n",
      "100.0%\n",
      "e:\\downloaded_videos\\venv\\Lib\\site-packages\\torch\\nn\\modules\\transformer.py:385: UserWarning: enable_nested_tensor is True, but self.use_nested_tensor is False because encoder_layer.self_attn.batch_first was not True(use batch_first for better inference performance)\n",
      "  warnings.warn(\n"
     ]
    },
    {
     "name": "stdout",
     "output_type": "stream",
     "text": [
      "done\n"
     ]
    }
   ],
   "source": [
    "model =  RepNet(frame_per_vid)\n",
    "model = model.to(device)\n",
    "\n",
    "print(\"done\")"
   ]
  },
  {
   "cell_type": "code",
   "execution_count": 15,
   "metadata": {},
   "outputs": [
    {
     "name": "stderr",
     "output_type": "stream",
     "text": [
      "100%|██████████| 5/5 [00:16<00:00,  3.30s/it, Epoch=1, MAE_period=4, MAE_count=658, Mean Tr Loss=798]\n",
      "100%|██████████| 1/1 [00:04<00:00,  4.75s/it, Epoch=1, MAE_period=4.94, MAE_count=23.2, Mean Val Loss=56.8]\n",
      "100%|██████████| 5/5 [00:15<00:00,  3.08s/it, Epoch=2, MAE_period=3.68, MAE_count=346, Mean Tr Loss=422]\n",
      "100%|██████████| 1/1 [00:04<00:00,  4.82s/it, Epoch=2, MAE_period=3.33, MAE_count=17.3, Mean Val Loss=41.9]\n",
      "100%|██████████| 5/5 [00:15<00:00,  3.13s/it, Epoch=3, MAE_period=4.27, MAE_count=167, Mean Tr Loss=208]\n",
      "100%|██████████| 1/1 [00:04<00:00,  4.80s/it, Epoch=3, MAE_period=3.59, MAE_count=15.1, Mean Val Loss=37.8]\n",
      "100%|██████████| 5/5 [00:18<00:00,  3.64s/it, Epoch=4, MAE_period=3.63, MAE_count=218, Mean Tr Loss=269]\n",
      "100%|██████████| 1/1 [00:04<00:00,  4.73s/it, Epoch=4, MAE_period=4.47, MAE_count=13.5, Mean Val Loss=36.3]\n",
      "100%|██████████| 5/5 [00:18<00:00,  3.69s/it, Epoch=5, MAE_period=3.92, MAE_count=190, Mean Tr Loss=235]\n",
      "100%|██████████| 1/1 [00:04<00:00,  4.90s/it, Epoch=5, MAE_period=3.36, MAE_count=12.3, Mean Val Loss=31.9]\n",
      "100%|██████████| 5/5 [00:15<00:00,  3.14s/it, Epoch=6, MAE_period=3.89, MAE_count=123, Mean Tr Loss=154]\n",
      "100%|██████████| 1/1 [00:04<00:00,  4.87s/it, Epoch=6, MAE_period=4.12, MAE_count=11.7, Mean Val Loss=32.1]\n",
      "100%|██████████| 5/5 [00:15<00:00,  3.08s/it, Epoch=7, MAE_period=3.53, MAE_count=167, Mean Tr Loss=207]\n",
      "100%|██████████| 1/1 [00:04<00:00,  4.77s/it, Epoch=7, MAE_period=4.53, MAE_count=11.5, Mean Val Loss=32.3]\n",
      "100%|██████████| 5/5 [00:15<00:00,  3.11s/it, Epoch=8, MAE_period=3.44, MAE_count=157, Mean Tr Loss=195]\n",
      "100%|██████████| 1/1 [00:04<00:00,  4.76s/it, Epoch=8, MAE_period=2.79, MAE_count=10.5, Mean Val Loss=27.1]\n",
      "100%|██████████| 5/5 [00:15<00:00,  3.13s/it, Epoch=9, MAE_period=3.06, MAE_count=142, Mean Tr Loss=176]\n",
      "100%|██████████| 1/1 [00:04<00:00,  4.74s/it, Epoch=9, MAE_period=3.92, MAE_count=8.84, Mean Val Loss=25.9]\n",
      "100%|██████████| 5/5 [00:15<00:00,  3.11s/it, Epoch=10, MAE_period=3.41, MAE_count=129, Mean Tr Loss=161]\n",
      "100%|██████████| 1/1 [00:04<00:00,  4.77s/it, Epoch=10, MAE_period=4.43, MAE_count=8.01, Mean Val Loss=25.3]\n",
      "100%|██████████| 10/10 [03:34<00:00, 21.44s/it]\n"
     ]
    }
   ],
   "source": [
    "trLoss, valLoss = training_loop(  10,\n",
    "                                  model,\n",
    "                                  trainDataset,\n",
    "                                  testDataset,\n",
    "                                  4,\n",
    "                                  6e-5,\n",
    "                                  'x3dbb',\n",
    "                                  use_count_error=True,\n",
    "                                  saveCkpt = 1,\n",
    "                                  train = 1,\n",
    "                                  validate = 1,\n",
    "                                  lastCkptPath = None\n",
    "                               )"
   ]
  },
  {
   "cell_type": "code",
   "execution_count": null,
   "metadata": {},
   "outputs": [],
   "source": []
  }
 ],
 "metadata": {
  "kernelspec": {
   "display_name": "venv",
   "language": "python",
   "name": "python3"
  },
  "language_info": {
   "codemirror_mode": {
    "name": "ipython",
    "version": 3
   },
   "file_extension": ".py",
   "mimetype": "text/x-python",
   "name": "python",
   "nbconvert_exporter": "python",
   "pygments_lexer": "ipython3",
   "version": "3.13.1"
  }
 },
 "nbformat": 4,
 "nbformat_minor": 2
}
